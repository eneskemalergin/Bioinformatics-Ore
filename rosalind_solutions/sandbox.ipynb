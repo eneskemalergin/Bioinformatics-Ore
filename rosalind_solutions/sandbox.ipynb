{
 "cells": [
  {
   "cell_type": "code",
   "execution_count": 45,
   "metadata": {
    "collapsed": true
   },
   "outputs": [],
   "source": [
    "# Parsing files such as Fasta\n",
    "from Bio import SeqIO"
   ]
  },
  {
   "cell_type": "code",
   "execution_count": null,
   "metadata": {
    "collapsed": true
   },
   "outputs": [],
   "source": [
    "# Numerical Computations\n",
    "import numpy as np"
   ]
  },
  {
   "cell_type": "code",
   "execution_count": null,
   "metadata": {
    "collapsed": true
   },
   "outputs": [],
   "source": [
    "n, m = map(int,input().split())"
   ]
  },
  {
   "cell_type": "code",
   "execution_count": null,
   "metadata": {
    "collapsed": true
   },
   "outputs": [],
   "source": [
    "def fib(n,k=1):\n",
    "  ages = [1] + [0]*(k-1)\n",
    "  for i in range(n-1):\n",
    "    ages = [sum(ages[1:])] + ages[:-1]\n",
    "  return sum(ages)"
   ]
  },
  {
   "cell_type": "code",
   "execution_count": null,
   "metadata": {
    "collapsed": true
   },
   "outputs": [],
   "source": [
    "fib(n, m)"
   ]
  },
  {
   "cell_type": "code",
   "execution_count": null,
   "metadata": {
    "collapsed": true
   },
   "outputs": [],
   "source": [
    "from Bio import SeqIO\n",
    "    \n",
    "\n",
    "    overlapGraph(\"D:/rosalind_data/overlapGraph.txt\", 3)"
   ]
  },
  {
   "cell_type": "code",
   "execution_count": null,
   "metadata": {
    "collapsed": true
   },
   "outputs": [],
   "source": [
    "def overlapGraph(myFile, k):\n",
    "    seqFixes = {}\n",
    "    for seq in SeqIO.parse(myFile, \"fasta\"):\n",
    "        seqFixes[seq.id] = [str(seq.seq)[0:3], str(seq.seq)[len(seq.seq)-3:len(seq.seq)]]\n",
    "    \n",
    "    for key in seqFixes:\n",
    "        for secKey in seqFixes:\n",
    "            if key!=secKey and seqFixes[key][1]==seqFixes[secKey][0]:\n",
    "                print key, secKey"
   ]
  },
  {
   "cell_type": "code",
   "execution_count": null,
   "metadata": {
    "collapsed": true
   },
   "outputs": [],
   "source": [
    "prob_lst = np.array([2, 2, 2, 1.5, 1, 0])"
   ]
  },
  {
   "cell_type": "code",
   "execution_count": null,
   "metadata": {
    "collapsed": true
   },
   "outputs": [],
   "source": [
    "prob_lst"
   ]
  },
  {
   "cell_type": "code",
   "execution_count": null,
   "metadata": {
    "collapsed": true
   },
   "outputs": [],
   "source": [
    "import numpy as np"
   ]
  },
  {
   "cell_type": "code",
   "execution_count": null,
   "metadata": {
    "collapsed": true
   },
   "outputs": [],
   "source": [
    "data_path = './data/test_iev.txt'\n",
    "with open(data_path, 'r') as input_data:\n",
    "    genotypes = [int(x) for x in input_data.read().split()]"
   ]
  },
  {
   "cell_type": "code",
   "execution_count": null,
   "metadata": {
    "collapsed": true
   },
   "outputs": [],
   "source": [
    "(np.array(genotypes) * prob_lst).sum()"
   ]
  },
  {
   "cell_type": "code",
   "execution_count": null,
   "metadata": {
    "collapsed": true
   },
   "outputs": [],
   "source": [
    "from Bio import SeqIO "
   ]
  },
  {
   "cell_type": "code",
   "execution_count": null,
   "metadata": {
    "collapsed": true
   },
   "outputs": [],
   "source": [
    "data_path = './data/test_lcsm.txt'\n",
    "lst_seqs = []\n",
    "for sequence in SeqIO.parse(data_path, \"fasta\"):\n",
    "    lst_seqs.append(str(sequence.seq))\n",
    "\n",
    "lst_seqs"
   ]
  },
  {
   "cell_type": "code",
   "execution_count": null,
   "metadata": {
    "collapsed": true
   },
   "outputs": [],
   "source": [
    "shortest_seq = min(lst_seqs)"
   ]
  },
  {
   "cell_type": "code",
   "execution_count": null,
   "metadata": {
    "collapsed": true
   },
   "outputs": [],
   "source": [
    "trial_seqs = []"
   ]
  },
  {
   "cell_type": "code",
   "execution_count": null,
   "metadata": {
    "collapsed": true
   },
   "outputs": [],
   "source": [
    "tmp = []\n",
    "for i in range(len(shortest_seq)):\n",
    "    tmp.append(shortest_seq[:i+1])"
   ]
  },
  {
   "cell_type": "code",
   "execution_count": null,
   "metadata": {
    "collapsed": true
   },
   "outputs": [],
   "source": [
    "tmp"
   ]
  },
  {
   "cell_type": "code",
   "execution_count": null,
   "metadata": {
    "collapsed": true
   },
   "outputs": [],
   "source": [
    "lst_seqs"
   ]
  },
  {
   "cell_type": "code",
   "execution_count": null,
   "metadata": {
    "collapsed": true
   },
   "outputs": [],
   "source": [
    "def lcsm(seqs):\n",
    "    # Returns the first longest match\n",
    "    seqs = sorted(seqs) # sort the list\n",
    "    short_seq = seqs[0] # store the shortest\n",
    "    other_seqs = seqs[1:] # exclude shortest from the list\n",
    "\n",
    "    p = '' # initialize string to keep the motif\n",
    "    for i in range(len(short_seq)):\n",
    "        for j in range(len(short_seq) , i + len(p), -1):\n",
    "            s1 = short_seq[i:j] # Subset the string\n",
    "            matched = True\n",
    "            for s2 in other_seqs:\n",
    "                if s1 not in s2:\n",
    "                    matched = False\n",
    "                    break\n",
    "            if matched:\n",
    "                p = s1\n",
    "                break\n",
    "    return p"
   ]
  },
  {
   "cell_type": "code",
   "execution_count": null,
   "metadata": {
    "collapsed": true
   },
   "outputs": [],
   "source": [
    "lcsm(lst_seqs)"
   ]
  },
  {
   "cell_type": "code",
   "execution_count": null,
   "metadata": {
    "collapsed": true
   },
   "outputs": [],
   "source": [
    "from scipy.special import binom"
   ]
  },
  {
   "cell_type": "code",
   "execution_count": null,
   "metadata": {
    "collapsed": true
   },
   "outputs": [],
   "source": [
    "def P(n, k):\n",
    "    return (binom(2 ** k, n) * 0.25 ** n * 0.75 ** (2 ** k - n))"
   ]
  },
  {
   "cell_type": "code",
   "execution_count": null,
   "metadata": {
    "collapsed": true
   },
   "outputs": [],
   "source": [
    "P(1,2)"
   ]
  },
  {
   "cell_type": "code",
   "execution_count": null,
   "metadata": {
    "collapsed": true
   },
   "outputs": [],
   "source": [
    "n = 1\n",
    "k = 2"
   ]
  },
  {
   "cell_type": "code",
   "execution_count": null,
   "metadata": {
    "collapsed": true
   },
   "outputs": [],
   "source": [
    "result = 1 - sum([P(_, k) for _ in range(n)])"
   ]
  },
  {
   "cell_type": "code",
   "execution_count": null,
   "metadata": {
    "collapsed": true
   },
   "outputs": [],
   "source": [
    "result"
   ]
  },
  {
   "cell_type": "code",
   "execution_count": null,
   "metadata": {
    "collapsed": true
   },
   "outputs": [],
   "source": [
    "from Bio import SeqIO\n",
    "import urllib.request\n",
    "import re"
   ]
  },
  {
   "cell_type": "code",
   "execution_count": null,
   "metadata": {
    "collapsed": true
   },
   "outputs": [],
   "source": [
    "myFile = './data/test_mprt.txt'"
   ]
  },
  {
   "cell_type": "code",
   "execution_count": null,
   "metadata": {
    "collapsed": true
   },
   "outputs": [],
   "source": [
    "\n",
    "url = \"http://www.uniprot.org/uniprot/B5ZC00.fasta\"\n",
    "response = urllib2.urlopen(url)\n",
    "fasta_iterator = SeqIO.parse(response, \"fasta\")\n",
    "\n",
    "for seq in fasta_iterator:\n",
    "  print seq.format(\"fasta\")"
   ]
  },
  {
   "cell_type": "code",
   "execution_count": null,
   "metadata": {
    "collapsed": true
   },
   "outputs": [],
   "source": [
    "with open(myFile, 'r') as f:\n",
    "    accids = f.readlines()\n",
    "    accids = [i.strip('\\n') for i in accids]"
   ]
  },
  {
   "cell_type": "code",
   "execution_count": null,
   "metadata": {
    "collapsed": true
   },
   "outputs": [],
   "source": [
    "accids"
   ]
  },
  {
   "cell_type": "code",
   "execution_count": null,
   "metadata": {
    "collapsed": true
   },
   "outputs": [],
   "source": [
    "# Get UniProt Data \n",
    "uri = 'http://www.uniprot.org/uniprot/B5ZC00.fasta'\n",
    "response = urllib.request.urlopen(uri)\n",
    "fasta = response.read().decode(\"utf-8\", \"ignore\")\n",
    "prot_seq = \"\".join(fasta.split('\\n')[1:]) # Very weird way of getting fasta sequence"
   ]
  },
  {
   "cell_type": "code",
   "execution_count": null,
   "metadata": {
    "collapsed": true
   },
   "outputs": [],
   "source": [
    "prot_seq"
   ]
  },
  {
   "cell_type": "markdown",
   "metadata": {},
   "source": [
    "Functionalize versions:"
   ]
  },
  {
   "cell_type": "code",
   "execution_count": null,
   "metadata": {
    "collapsed": true
   },
   "outputs": [],
   "source": [
    "def connect2uniprot(accid):\n",
    "    uri = 'http://www.uniprot.org/uniprot/{}.fasta'.format(accid)\n",
    "    response = urllib.request.urlopen(uri)\n",
    "    fasta = response.read().decode(\"utf-8\", \"ignore\")\n",
    "    prot_seq = \"\".join(fasta.split('\\n')[1:])\n",
    "    return prot_seq"
   ]
  },
  {
   "cell_type": "code",
   "execution_count": null,
   "metadata": {
    "collapsed": true
   },
   "outputs": [],
   "source": [
    "def main(data_path):\n",
    "    # Define motif to look for in each protein sequence.\n",
    "    # N-glycosylation motif\n",
    "    # N{any but P}[S or T]{any but P}\n",
    "    motif = re.compile('(?=N[^P][ST][^P])')\n",
    "\n",
    "    with open(data_path, 'r') as f:\n",
    "        accids = f.readlines()\n",
    "        accids = [i.strip('\\n') for i in accids]\n",
    "\n",
    "    results = {}\n",
    "    for i in accids:\n",
    "        index = []\n",
    "        name = i\n",
    "        seq = connect2uniprot(name)\n",
    "        for j in range(len(seq)):\n",
    "            if motif.match(seq[j:j+4]):\n",
    "                index.append(str(j+1))\n",
    "\n",
    "        if len(index) != 0:\n",
    "            print(name)\n",
    "            print(' '.join(index))"
   ]
  },
  {
   "cell_type": "code",
   "execution_count": null,
   "metadata": {
    "collapsed": true
   },
   "outputs": [],
   "source": [
    "main('./data/test_mprt.txt')"
   ]
  },
  {
   "cell_type": "code",
   "execution_count": null,
   "metadata": {
    "collapsed": true
   },
   "outputs": [],
   "source": [
    "aa_dist = {\n",
    "        'F':2,  'L':6,  'I':3,  'V':4,  'M':1,  'S':6,  'P':4,  'T':4,  'A':4,  'Y':2,\n",
    "        'H':2,  'N':2,  'D':2,  'Q':2,  'K':2,  'E':2,  'C':2,  'R':6,  'G':4,  'W':1}"
   ]
  },
  {
   "cell_type": "code",
   "execution_count": null,
   "metadata": {
    "collapsed": true
   },
   "outputs": [],
   "source": [
    "data_path = './data/test_mrna.txt'"
   ]
  },
  {
   "cell_type": "code",
   "execution_count": null,
   "metadata": {
    "collapsed": true
   },
   "outputs": [],
   "source": [
    "with open(data_path, 'r') as input_data:\n",
    "    aas = list(input_data.read().strip())"
   ]
  },
  {
   "cell_type": "code",
   "execution_count": null,
   "metadata": {
    "collapsed": true
   },
   "outputs": [],
   "source": [
    "aas"
   ]
  },
  {
   "cell_type": "code",
   "execution_count": null,
   "metadata": {
    "collapsed": true
   },
   "outputs": [],
   "source": [
    "count = 3\n",
    "for aa in aas:\n",
    "    count = (count * (aa_dist[aa]) ) % 1000000\n",
    "\n",
    "print(count)"
   ]
  },
  {
   "cell_type": "code",
   "execution_count": null,
   "metadata": {
    "collapsed": true
   },
   "outputs": [],
   "source": [
    "rna_seq = \"\".join(['U' if x=='T' else x for x in dna_seq])"
   ]
  },
  {
   "cell_type": "code",
   "execution_count": null,
   "metadata": {
    "collapsed": true
   },
   "outputs": [],
   "source": [
    "import re"
   ]
  },
  {
   "cell_type": "code",
   "execution_count": null,
   "metadata": {
    "collapsed": true
   },
   "outputs": [],
   "source": [
    "starts= [m.start() for m in re.finditer('(?=AUG)', rna_seq)]\n",
    "ends =  [m.start() for m in re.finditer('(?=UAA)', rna_seq)] + \\\n",
    "        [m.start() for m in re.finditer('(?=UAG)', rna_seq)] + \\\n",
    "        [m.start() for m in re.finditer('(?=UGA)', rna_seq)]\n",
    "        \n",
    "ends = sorted(ends)"
   ]
  },
  {
   "cell_type": "code",
   "execution_count": null,
   "metadata": {
    "collapsed": true
   },
   "outputs": [],
   "source": [
    "starts"
   ]
  },
  {
   "cell_type": "code",
   "execution_count": null,
   "metadata": {
    "collapsed": true
   },
   "outputs": [],
   "source": [
    "ends"
   ]
  },
  {
   "cell_type": "code",
   "execution_count": null,
   "metadata": {
    "collapsed": true
   },
   "outputs": [],
   "source": [
    "rna_seq[4:]"
   ]
  },
  {
   "cell_type": "code",
   "execution_count": null,
   "metadata": {
    "collapsed": true
   },
   "outputs": [],
   "source": [
    "for i in range(1,len(starts)+1):\n",
    "    print(starts[i-1:i+1])        "
   ]
  },
  {
   "cell_type": "code",
   "execution_count": null,
   "metadata": {
    "collapsed": true
   },
   "outputs": [],
   "source": [
    "def coupling(starts, ends):\n",
    "    couples = []\n",
    "    for i in starts:\n",
    "        for j in ends:\n",
    "            if i < j:\n",
    "                couples.append([i,j])\n",
    "                break\n",
    "    return couples    "
   ]
  },
  {
   "cell_type": "code",
   "execution_count": null,
   "metadata": {
    "collapsed": true
   },
   "outputs": [],
   "source": [
    "x = coupling(starts, ends)"
   ]
  },
  {
   "cell_type": "code",
   "execution_count": null,
   "metadata": {
    "collapsed": true
   },
   "outputs": [],
   "source": [
    "for i in coupling:\n",
    "    print(rna_seq[i[0]:i[1]])"
   ]
  },
  {
   "cell_type": "code",
   "execution_count": 13,
   "metadata": {
    "collapsed": true
   },
   "outputs": [],
   "source": [
    "codons = {\"UUU\":\"F\",\"UUC\":\"F\",\"UUA\":\"L\",\"UUG\":\"L\",\"UCU\":\"S\",\\\n",
    "                \"UCC\":\"S\",\"UCA\":\"S\",\"UCG\":\"S\",\"UAC\":\"Y\",\"UAU\":\"Y\",\"UAA\":None,\\\n",
    "                \"UAG\":None,\"UGU\":\"C\",\"UGC\":\"C\",\"UGA\":None,\"UGG\":\"W\",\\\n",
    "                \"CUU\":\"L\",\"CUC\":\"L\",\"CUA\":\"L\",\"CUG\":\"L\",\"CCU\":\"P\",\"CCC\":\"P\",\\\n",
    "                \"CCA\":\"P\",\"CCG\":\"P\",\"CAU\":\"H\",\"CAC\":\"H\",\"CAA\":\"Q\",\"CAG\":\"Q\",\\\n",
    "                \"CGU\":\"R\",\"CGC\":\"R\",\"CGA\":\"R\",\"CGG\":\"R\",\"AUU\":\"I\",\"AUC\":\"I\",\\\n",
    "                \"AUA\":\"I\",\"AUG\":\"M\",\"ACU\":\"T\",\"ACC\":\"T\",\"ACA\":\"T\",\"ACG\":\"T\",\\\n",
    "                \"AAU\":\"N\",\"AAC\":\"N\",\"AAA\":\"K\",\"AAG\":\"K\",\"AGU\":\"S\",\"AGC\":\"S\",\\\n",
    "                \"AGA\":\"R\",\"AGG\":\"R\",\"GUU\":\"V\",\"GUC\":\"V\",\"GUA\":\"V\",\"GUG\":\"V\",\\\n",
    "                \"GCU\":\"A\",\"GCA\":\"A\",\"GCC\":\"A\",\"GCG\":\"A\",\"GAC\":\"D\",\"GAU\":\"D\",\"GAA\":\"E\",\"GAG\":\"E\",\\\n",
    "                \"GGU\":\"G\",\"GGC\":\"G\",\"GGA\":\"G\",\"GGG\":\"G\"}"
   ]
  },
  {
   "cell_type": "code",
   "execution_count": 14,
   "metadata": {
    "collapsed": true
   },
   "outputs": [],
   "source": [
    "start_codon = 'AUG'"
   ]
  },
  {
   "cell_type": "code",
   "execution_count": 15,
   "metadata": {
    "collapsed": true
   },
   "outputs": [],
   "source": [
    "stop_codons = ['UAA', 'UAG', 'UGA']"
   ]
  },
  {
   "cell_type": "code",
   "execution_count": 16,
   "metadata": {
    "collapsed": true
   },
   "outputs": [],
   "source": [
    "from Bio import SeqIO\n",
    "import re\n",
    "data_path = './data/test_orf.txt'\n",
    "lst_seqs = []\n",
    "for sequence in SeqIO.parse(data_path, \"fasta\"):\n",
    "        lst_seqs.append(str(sequence.seq))\n",
    "dna_seq = lst_seqs[0]  "
   ]
  },
  {
   "cell_type": "code",
   "execution_count": 32,
   "metadata": {
    "collapsed": true
   },
   "outputs": [],
   "source": [
    "rna_seq = \"\".join(['U' if x=='T' else x for x in dna_seq])\n",
    "lookup = {'A':'U', 'U':'A', 'G':'C', 'C':'G'}\n",
    "rev_rna_seq= ''.join([lookup[c] for c in rna_seq[::-1]])"
   ]
  },
  {
   "cell_type": "code",
   "execution_count": 35,
   "metadata": {},
   "outputs": [
    {
     "name": "stdout",
     "output_type": "stream",
     "text": [
      "M\n",
      "MGMTPRLGLESLLE\n",
      "MTPRLGLESLLE\n",
      "MIRVASQ\n",
      "MLLGSFRLIPKETLIQVAGSSPCNLS\n",
      "M\n",
      "MA\n"
     ]
    }
   ],
   "source": [
    "for sequence in [rna_seq, rev_rna_seq]:\n",
    "    starts = [m.start() for m in re.finditer(start_codon, sequence)]\n",
    "    for start in starts:\n",
    "        fragment = sequence[start:]\n",
    "        protein = \"\"\n",
    "        trios = zip(*[iter(fragment)] * 3)\n",
    "        for triplet in trios:\n",
    "            codon = codons[''.join(triplet)]\n",
    "            if not codon:\n",
    "                break\n",
    "            else:\n",
    "                protein += codon\n",
    "        print(protein)"
   ]
  },
  {
   "cell_type": "code",
   "execution_count": null,
   "metadata": {
    "collapsed": true
   },
   "outputs": [],
   "source": [
    "MLLGSFRLIPKETLIQVAGSSPCNLS\n",
    "M\n",
    "MGMTPRLGLESLLE\n",
    "MTPRLGLESLLE"
   ]
  },
  {
   "cell_type": "code",
   "execution_count": 1,
   "metadata": {
    "collapsed": true
   },
   "outputs": [],
   "source": [
    "from itertools import permutations"
   ]
  },
  {
   "cell_type": "code",
   "execution_count": 10,
   "metadata": {
    "collapsed": true
   },
   "outputs": [],
   "source": [
    "data_path = './data/test_perm.txt'\n",
    "with open(data_path, 'r') as input_data:\n",
    "    n = int(input_data.read())"
   ]
  },
  {
   "cell_type": "code",
   "execution_count": 2,
   "metadata": {
    "collapsed": true
   },
   "outputs": [],
   "source": [
    "n = 3"
   ]
  },
  {
   "cell_type": "code",
   "execution_count": 14,
   "metadata": {},
   "outputs": [
    {
     "name": "stdout",
     "output_type": "stream",
     "text": [
      "1 2 3\n",
      "1 3 2\n",
      "2 1 3\n",
      "2 3 1\n",
      "3 1 2\n",
      "3 2 1\n"
     ]
    }
   ],
   "source": [
    "count = 0\n",
    "for i in permutations(list(range(1,n+1))):\n",
    "    print(\" \".join(str(elem) for elem in i))\n",
    "    count += 1"
   ]
  },
  {
   "cell_type": "code",
   "execution_count": 24,
   "metadata": {
    "collapsed": true
   },
   "outputs": [],
   "source": [
    "aa_mass = { 'A':71.03711, 'C':103.00919, 'D':115.02694, 'E':129.04259, 'F':147.06841,\n",
    "               'G':57.02146, 'H':137.05891, 'I':113.08406, 'K':128.09496, 'L':113.08406, \n",
    "               'M':131.04049,'N':114.04293, 'P':97.05276,  'Q':128.05858, 'R':156.10111, \n",
    "               'S':87.03203, 'T':101.04768, 'V':99.06841, 'W':186.07931, 'Y':163.06333 }"
   ]
  },
  {
   "cell_type": "code",
   "execution_count": 29,
   "metadata": {
    "collapsed": true
   },
   "outputs": [],
   "source": [
    "data_path = './data/rosalind_prtm.txt'\n",
    "with open(data_path, 'r') as input_data:\n",
    "    prot_seq = input_data.read().strip()"
   ]
  },
  {
   "cell_type": "code",
   "execution_count": 30,
   "metadata": {},
   "outputs": [
    {
     "data": {
      "text/plain": [
       "'TLAMYVFILETPYIIYPFVVYRYALLLRIPRQCLTLVFKLMATSYDSDSGLNIMFGKAKEDVNWYLWGWRCDYIMDVSPDWMMDIDCIMNHMWSTFHPNDCSMVHWYFSCADIQLGMCEMYWIDWAHNIRLASNEKVIAFREMAELSNQVVAFMDYEFHKYTRPTYELGFDSCMLSFFGQDMRHSSWGYGAINHKWAMNPRPLMNHTMNNPCNAAMRLRACALPYVDVWNPEIEWWAHQEETKRDWPTSLEIVQERVFCKLLVTCHMPFQDTDDMLFMYFMKLALGQRLTLDCLIWNNHFADYSNASCRFHLGGPAMHGFQGKTQGKQCMLNNGPGFCHWIGMYLFTQYIKQYFQGTNCNWELCWAPHACVYEKQVTESDVKDDIVVHHQVCLTLHQRHELHRISDFGSKLHDYICFEVNQAICYQIVFEKGRIACCVVYDVMQFYIVRQKYWNIYNKVQEACHVFEVLSMERGGWKQYMHKMSSMYDSSSGYIDRSVWSNESGCMDWSLTQMDCGSARGYPDWDILQTFTETTPIDREQKSTINHEHVMNHRAWPWQFIPDQKTDLNKMQDPISVCVVHWSYARQVKVVWWGKHQHYKNGPQGKCEWYEEKQVRFKGTMYWSEPSYFFPNTMMPCRCQRFDQRERPHKSCIKWICKTGKAIEQIYVWRQQTTMWASEELAPMPCMILGLWHLMNTCHERDYPPRMGAFFDWIWHLNRTYFKKTSDWQRFEVCDDCIGHCTKITYMVQLFCMRRIQRDIQWMLVTSGHTRFFGGYAKDSEPKEHKYRIFMCIMNIFKWQDQPIDSPTWCVTSNWGEVVWDPNMTLYTIEQCYFLWAIPRVYSQHPWTNNSALWGQCVWLLMHI'"
      ]
     },
     "execution_count": 30,
     "metadata": {},
     "output_type": "execute_result"
    }
   ],
   "source": [
    "prot_seq"
   ]
  },
  {
   "cell_type": "code",
   "execution_count": 31,
   "metadata": {
    "collapsed": true
   },
   "outputs": [],
   "source": [
    "mass = sum([aa_mass[x] for x in prot_seq])"
   ]
  },
  {
   "cell_type": "code",
   "execution_count": 32,
   "metadata": {},
   "outputs": [
    {
     "data": {
      "text/plain": [
       "103294.58751000042"
      ]
     },
     "execution_count": 32,
     "metadata": {},
     "output_type": "execute_result"
    }
   ],
   "source": [
    "mass"
   ]
  },
  {
   "cell_type": "code",
   "execution_count": 2,
   "metadata": {
    "collapsed": true
   },
   "outputs": [],
   "source": [
    "from Bio.Seq import Seq\n",
    "from Bio import SeqIO"
   ]
  },
  {
   "cell_type": "code",
   "execution_count": 1,
   "metadata": {
    "collapsed": true
   },
   "outputs": [],
   "source": [
    "data_path = './data/test_splc.txt'"
   ]
  },
  {
   "cell_type": "code",
   "execution_count": 6,
   "metadata": {},
   "outputs": [
    {
     "name": "stdout",
     "output_type": "stream",
     "text": [
      "ATGGTCTACATAGCTGACAAACAGCACGTAGCAATCGGTCGAATCTCGAGAGGCATATGGTCACATGATCGGTCGAGCGTGTTTCAAAGTTTGCGCCTAG\n",
      "ATCGGTCGAA\n",
      "ATCGGTCGAGCGTGT\n"
     ]
    }
   ],
   "source": [
    "instream = SeqIO.parse(data_path,\"fasta\")\n",
    "for i in instream:\n",
    "    print(i.seq)"
   ]
  },
  {
   "cell_type": "code",
   "execution_count": 19,
   "metadata": {
    "collapsed": true
   },
   "outputs": [],
   "source": [
    "from itertools import combinations, permutations, product"
   ]
  },
  {
   "cell_type": "code",
   "execution_count": 2,
   "metadata": {
    "collapsed": true
   },
   "outputs": [],
   "source": [
    "data_path = './data/test_lexf.txt'"
   ]
  },
  {
   "cell_type": "code",
   "execution_count": 13,
   "metadata": {
    "collapsed": true
   },
   "outputs": [],
   "source": [
    "with open(data_path, 'r') as f:\n",
    "    seq_lst = \"\".join(f.readline().strip().split(\" \"))\n",
    "    n = int(f.readline().strip())"
   ]
  },
  {
   "cell_type": "code",
   "execution_count": 16,
   "metadata": {},
   "outputs": [
    {
     "data": {
      "text/plain": [
       "[('A', 'C'), ('A', 'G'), ('A', 'T'), ('C', 'G'), ('C', 'T'), ('G', 'T')]"
      ]
     },
     "execution_count": 16,
     "metadata": {},
     "output_type": "execute_result"
    }
   ],
   "source": [
    "list(combinations(seq_lst,2))"
   ]
  },
  {
   "cell_type": "code",
   "execution_count": 18,
   "metadata": {},
   "outputs": [
    {
     "data": {
      "text/plain": [
       "[('A', 'C'),\n",
       " ('A', 'G'),\n",
       " ('A', 'T'),\n",
       " ('C', 'A'),\n",
       " ('C', 'G'),\n",
       " ('C', 'T'),\n",
       " ('G', 'A'),\n",
       " ('G', 'C'),\n",
       " ('G', 'T'),\n",
       " ('T', 'A'),\n",
       " ('T', 'C'),\n",
       " ('T', 'G')]"
      ]
     },
     "execution_count": 18,
     "metadata": {},
     "output_type": "execute_result"
    }
   ],
   "source": [
    "list(permutations(seq_lst, 2))"
   ]
  },
  {
   "cell_type": "code",
   "execution_count": 24,
   "metadata": {},
   "outputs": [
    {
     "data": {
      "text/plain": [
       "{'A': 0, 'C': 1, 'G': 2, 'T': 3}"
      ]
     },
     "execution_count": 24,
     "metadata": {},
     "output_type": "execute_result"
    }
   ],
   "source": [
    "dict((c, i) for i, c in enumerate(alphabet))"
   ]
  },
  {
   "cell_type": "code",
   "execution_count": 23,
   "metadata": {
    "collapsed": true
   },
   "outputs": [],
   "source": [
    "alphabet = list(seq_lst)"
   ]
  },
  {
   "cell_type": "code",
   "execution_count": 25,
   "metadata": {
    "collapsed": true
   },
   "outputs": [],
   "source": [
    "x = []\n",
    "for i in alphabet:\n",
    "    for j in alphabet:\n",
    "        tmp = i+j\n",
    "        x.append(tmp)\n",
    "    "
   ]
  },
  {
   "cell_type": "code",
   "execution_count": 28,
   "metadata": {
    "collapsed": true
   },
   "outputs": [],
   "source": [
    "from itertools import product"
   ]
  },
  {
   "cell_type": "code",
   "execution_count": 31,
   "metadata": {
    "collapsed": true
   },
   "outputs": [],
   "source": [
    "tmp_lst = []\n",
    "for perm in product(alphabet, repeat=n):\n",
    "    tmp_lst.append(\"\".join(perm))"
   ]
  },
  {
   "cell_type": "code",
   "execution_count": 1,
   "metadata": {
    "collapsed": true
   },
   "outputs": [],
   "source": [
    "data_path = './data/test_long.txt'"
   ]
  },
  {
   "cell_type": "code",
   "execution_count": 5,
   "metadata": {
    "collapsed": true
   },
   "outputs": [],
   "source": [
    "seq_list = []\n",
    "stseq = ''"
   ]
  },
  {
   "cell_type": "code",
   "execution_count": 38,
   "metadata": {
    "collapsed": true
   },
   "outputs": [],
   "source": [
    "from Bio import SeqIO"
   ]
  },
  {
   "cell_type": "code",
   "execution_count": 39,
   "metadata": {
    "collapsed": true
   },
   "outputs": [],
   "source": [
    "seq_lst = []\n",
    "for record in SeqIO.parse(data_path, 'fasta'):\n",
    "    seq_lst.append(str(record.seq))"
   ]
  },
  {
   "cell_type": "code",
   "execution_count": 40,
   "metadata": {},
   "outputs": [
    {
     "data": {
      "text/plain": [
       "['ATTAGACCTG', 'CCTGCCGGAA', 'AGACCTGCCG', 'GCCGGAATAC']"
      ]
     },
     "execution_count": 40,
     "metadata": {},
     "output_type": "execute_result"
    }
   ],
   "source": [
    "seq_lst"
   ]
  },
  {
   "cell_type": "code",
   "execution_count": 42,
   "metadata": {
    "collapsed": true
   },
   "outputs": [],
   "source": [
    "def match_seq(seq, seq_list):\n",
    "    half = int(len(seq)/2)\n",
    "    for i in range(len(seq)-1, half, -1):\n",
    "        overlap = seq[len(seq)-i:]\n",
    "        for seq2 in seq_list:\n",
    "            if seq2 != seq:\n",
    "                if seq2[:i] == overlap:\n",
    "                    return seq[:len(seq)-i] + seq2"
   ]
  },
  {
   "cell_type": "code",
   "execution_count": 43,
   "metadata": {
    "collapsed": true
   },
   "outputs": [],
   "source": [
    "def shortest_contig(seq_list):\n",
    "    while len(seq_list) > 1:\n",
    "        new_list = []\n",
    "        for seq in seq_list:\n",
    "            match = match_seq(seq, seq_list)\n",
    "            if match != None:\n",
    "                new_list.append(match)\n",
    "        seq_list = new_list\n",
    "    return seq_list[0]\n"
   ]
  },
  {
   "cell_type": "code",
   "execution_count": 44,
   "metadata": {},
   "outputs": [
    {
     "data": {
      "text/plain": [
       "'ATTAGACCTGCCGGAATAC'"
      ]
     },
     "execution_count": 44,
     "metadata": {},
     "output_type": "execute_result"
    }
   ],
   "source": [
    "shortest_contig(seq_lst)"
   ]
  },
  {
   "cell_type": "code",
   "execution_count": 41,
   "metadata": {},
   "outputs": [
    {
     "data": {
      "text/plain": [
       "['ATTAGACCTG', 'CCTGCCGGAA', 'AGACCTGCCG', 'GCCGGAATAC']"
      ]
     },
     "execution_count": 41,
     "metadata": {},
     "output_type": "execute_result"
    }
   ],
   "source": [
    "seq_lst"
   ]
  },
  {
   "cell_type": "code",
   "execution_count": null,
   "metadata": {
    "collapsed": true
   },
   "outputs": [],
   "source": []
  }
 ],
 "metadata": {
  "kernelspec": {
   "display_name": "Python 3",
   "language": "python",
   "name": "python3"
  },
  "language_info": {
   "codemirror_mode": {
    "name": "ipython",
    "version": 3
   },
   "file_extension": ".py",
   "mimetype": "text/x-python",
   "name": "python",
   "nbconvert_exporter": "python",
   "pygments_lexer": "ipython3",
   "version": "3.6.1"
  }
 },
 "nbformat": 4,
 "nbformat_minor": 2
}
