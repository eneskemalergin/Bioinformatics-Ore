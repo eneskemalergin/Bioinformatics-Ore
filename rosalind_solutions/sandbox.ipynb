{
 "cells": [
  {
   "cell_type": "code",
   "execution_count": null,
   "metadata": {
    "collapsed": true
   },
   "outputs": [],
   "source": []
  },
  {
   "cell_type": "raw",
   "metadata": {
    "collapsed": true
   },
   "source": [
    "# Parsing files such as Fasta\n",
    "from Bio import SeqIO"
   ]
  },
  {
   "cell_type": "code",
   "execution_count": 1,
   "metadata": {
    "collapsed": true
   },
   "outputs": [],
   "source": [
    "# Numerical Computations\n",
    "import numpy as np"
   ]
  },
  {
   "cell_type": "code",
   "execution_count": 28,
   "metadata": {},
   "outputs": [
    {
     "name": "stdout",
     "output_type": "stream",
     "text": [
      "96 17\n"
     ]
    }
   ],
   "source": [
    "n, m = map(int,input().split())"
   ]
  },
  {
   "cell_type": "code",
   "execution_count": 29,
   "metadata": {
    "collapsed": true
   },
   "outputs": [],
   "source": [
    "def fib(n,k=1):\n",
    "  ages = [1] + [0]*(k-1)\n",
    "  for i in range(n-1):\n",
    "    ages = [sum(ages[1:])] + ages[:-1]\n",
    "  return sum(ages)"
   ]
  },
  {
   "cell_type": "code",
   "execution_count": 30,
   "metadata": {},
   "outputs": [
    {
     "data": {
      "text/plain": [
       "51159459138167757395"
      ]
     },
     "execution_count": 30,
     "metadata": {},
     "output_type": "execute_result"
    }
   ],
   "source": [
    "fib(n, m)"
   ]
  },
  {
   "cell_type": "code",
   "execution_count": null,
   "metadata": {
    "collapsed": true
   },
   "outputs": [],
   "source": [
    "from Bio import SeqIO\n",
    "    \n",
    "\n",
    "    overlapGraph(\"D:/rosalind_data/overlapGraph.txt\", 3)"
   ]
  },
  {
   "cell_type": "code",
   "execution_count": null,
   "metadata": {
    "collapsed": true
   },
   "outputs": [],
   "source": [
    "def overlapGraph(myFile, k):\n",
    "    seqFixes = {}\n",
    "    for seq in SeqIO.parse(myFile, \"fasta\"):\n",
    "        seqFixes[seq.id] = [str(seq.seq)[0:3], str(seq.seq)[len(seq.seq)-3:len(seq.seq)]]\n",
    "    \n",
    "    for key in seqFixes:\n",
    "        for secKey in seqFixes:\n",
    "            if key!=secKey and seqFixes[key][1]==seqFixes[secKey][0]:\n",
    "                print key, secKey"
   ]
  },
  {
   "cell_type": "code",
   "execution_count": 43,
   "metadata": {
    "collapsed": true
   },
   "outputs": [],
   "source": [
    "prob_lst = np.array([2, 2, 2, 1.5, 1, 0])"
   ]
  },
  {
   "cell_type": "code",
   "execution_count": 44,
   "metadata": {},
   "outputs": [
    {
     "data": {
      "text/plain": [
       "array([ 2. ,  2. ,  2. ,  1.5,  1. ,  0. ])"
      ]
     },
     "execution_count": 44,
     "metadata": {},
     "output_type": "execute_result"
    }
   ],
   "source": [
    "prob_lst"
   ]
  },
  {
   "cell_type": "code",
   "execution_count": 32,
   "metadata": {
    "collapsed": true
   },
   "outputs": [],
   "source": [
    "import numpy as np"
   ]
  },
  {
   "cell_type": "code",
   "execution_count": 50,
   "metadata": {
    "collapsed": true
   },
   "outputs": [],
   "source": [
    "data_path = './data/test_iev.txt'\n",
    "with open(data_path, 'r') as input_data:\n",
    "    genotypes = [int(x) for x in input_data.read().split()]"
   ]
  },
  {
   "cell_type": "code",
   "execution_count": 53,
   "metadata": {},
   "outputs": [
    {
     "data": {
      "text/plain": [
       "3.5"
      ]
     },
     "execution_count": 53,
     "metadata": {},
     "output_type": "execute_result"
    }
   ],
   "source": [
    "(np.array(genotypes) * prob_lst).sum()"
   ]
  },
  {
   "cell_type": "code",
   "execution_count": 4,
   "metadata": {
    "collapsed": true
   },
   "outputs": [],
   "source": [
    "from Bio import SeqIO "
   ]
  },
  {
   "cell_type": "code",
   "execution_count": 9,
   "metadata": {
    "collapsed": true
   },
   "outputs": [],
   "source": [
    "data_path = './data/test_lcsm.txt'\n",
    "lst_seqs = []\n",
    "for sequence in SeqIO.parse(data_path, \"fasta\"):\n",
    "    lst_seqs.append(str(sequence.seq))\n",
    "\n",
    "lst_seqs"
   ]
  },
  {
   "cell_type": "code",
   "execution_count": 11,
   "metadata": {
    "collapsed": true
   },
   "outputs": [],
   "source": [
    "shortest_seq = min(lst_seqs)"
   ]
  },
  {
   "cell_type": "code",
   "execution_count": 13,
   "metadata": {
    "collapsed": true
   },
   "outputs": [],
   "source": [
    "trial_seqs = []"
   ]
  },
  {
   "cell_type": "code",
   "execution_count": 19,
   "metadata": {
    "collapsed": true
   },
   "outputs": [],
   "source": [
    "tmp = []\n",
    "for i in range(len(shortest_seq)):\n",
    "    tmp.append(shortest_seq[:i+1])"
   ]
  },
  {
   "cell_type": "code",
   "execution_count": 20,
   "metadata": {},
   "outputs": [
    {
     "data": {
      "text/plain": [
       "['A', 'AT', 'ATA', 'ATAC', 'ATACA']"
      ]
     },
     "execution_count": 20,
     "metadata": {},
     "output_type": "execute_result"
    }
   ],
   "source": [
    "tmp"
   ]
  },
  {
   "cell_type": "code",
   "execution_count": 24,
   "metadata": {},
   "outputs": [
    {
     "data": {
      "text/plain": [
       "['GATTACA', 'TAGACCA', 'ATACA']"
      ]
     },
     "execution_count": 24,
     "metadata": {},
     "output_type": "execute_result"
    }
   ],
   "source": [
    "lst_seqs"
   ]
  },
  {
   "cell_type": "code",
   "execution_count": 25,
   "metadata": {
    "collapsed": true
   },
   "outputs": [],
   "source": [
    "def lcsm(seqs):\n",
    "    # Returns the first longest match\n",
    "    seqs = sorted(seqs) # sort the list\n",
    "    short_seq = seqs[0] # store the shortest\n",
    "    other_seqs = seqs[1:] # exclude shortest from the list\n",
    "\n",
    "    p = '' # initialize string to keep the motif\n",
    "    for i in range(len(short_seq)):\n",
    "        for j in range(len(short_seq) , i + len(p), -1):\n",
    "            s1 = short_seq[i:j] # Subset the string\n",
    "            matched = True\n",
    "            for s2 in other_seqs:\n",
    "                if s1 not in s2:\n",
    "                    matched = False\n",
    "                    break\n",
    "            if matched:\n",
    "                p = s1\n",
    "                break\n",
    "    return p"
   ]
  },
  {
   "cell_type": "code",
   "execution_count": 26,
   "metadata": {},
   "outputs": [
    {
     "data": {
      "text/plain": [
       "'TA'"
      ]
     },
     "execution_count": 26,
     "metadata": {},
     "output_type": "execute_result"
    }
   ],
   "source": [
    "lcsm(lst_seqs)"
   ]
  },
  {
   "cell_type": "code",
   "execution_count": 52,
   "metadata": {
    "collapsed": true
   },
   "outputs": [],
   "source": [
    "from scipy.special import binom"
   ]
  },
  {
   "cell_type": "code",
   "execution_count": 53,
   "metadata": {
    "collapsed": true
   },
   "outputs": [],
   "source": [
    "def P(n, k):\n",
    "    return (binom(2 ** k, n) * 0.25 ** n * 0.75 ** (2 ** k - n))"
   ]
  },
  {
   "cell_type": "code",
   "execution_count": 54,
   "metadata": {},
   "outputs": [
    {
     "data": {
      "text/plain": [
       "0.421875"
      ]
     },
     "execution_count": 54,
     "metadata": {},
     "output_type": "execute_result"
    }
   ],
   "source": [
    "P(1,2)"
   ]
  },
  {
   "cell_type": "code",
   "execution_count": 55,
   "metadata": {
    "collapsed": true
   },
   "outputs": [],
   "source": [
    "n = 1\n",
    "k = 2"
   ]
  },
  {
   "cell_type": "code",
   "execution_count": 56,
   "metadata": {
    "collapsed": true
   },
   "outputs": [],
   "source": [
    "result = 1 - sum([P(_, k) for _ in range(n)])"
   ]
  },
  {
   "cell_type": "code",
   "execution_count": 57,
   "metadata": {},
   "outputs": [
    {
     "data": {
      "text/plain": [
       "0.68359375"
      ]
     },
     "execution_count": 57,
     "metadata": {},
     "output_type": "execute_result"
    }
   ],
   "source": [
    "result"
   ]
  },
  {
   "cell_type": "code",
   "execution_count": 52,
   "metadata": {
    "collapsed": true
   },
   "outputs": [],
   "source": [
    "from Bio import SeqIO\n",
    "import urllib.request\n",
    "import re"
   ]
  },
  {
   "cell_type": "code",
   "execution_count": 30,
   "metadata": {
    "collapsed": true
   },
   "outputs": [],
   "source": [
    "myFile = './data/test_mprt.txt'"
   ]
  },
  {
   "cell_type": "code",
   "execution_count": null,
   "metadata": {
    "collapsed": true
   },
   "outputs": [],
   "source": [
    "\n",
    "url = \"http://www.uniprot.org/uniprot/B5ZC00.fasta\"\n",
    "response = urllib2.urlopen(url)\n",
    "fasta_iterator = SeqIO.parse(response, \"fasta\")\n",
    "\n",
    "for seq in fasta_iterator:\n",
    "  print seq.format(\"fasta\")"
   ]
  },
  {
   "cell_type": "code",
   "execution_count": 31,
   "metadata": {
    "collapsed": true
   },
   "outputs": [],
   "source": [
    "with open(myFile, 'r') as f:\n",
    "    accids = f.readlines()\n",
    "    accids = [i.strip('\\n') for i in accids]"
   ]
  },
  {
   "cell_type": "code",
   "execution_count": 32,
   "metadata": {},
   "outputs": [
    {
     "data": {
      "text/plain": [
       "['A2Z669', 'B5ZC00', 'P07204_TRBM_HUMAN', 'P20840_SAG1_YEAST']"
      ]
     },
     "execution_count": 32,
     "metadata": {},
     "output_type": "execute_result"
    }
   ],
   "source": [
    "accids"
   ]
  },
  {
   "cell_type": "code",
   "execution_count": 47,
   "metadata": {
    "collapsed": true
   },
   "outputs": [],
   "source": [
    "# Get UniProt Data \n",
    "uri = 'http://www.uniprot.org/uniprot/B5ZC00.fasta'\n",
    "response = urllib.request.urlopen(uri)\n",
    "fasta = response.read().decode(\"utf-8\", \"ignore\")\n",
    "prot_seq = \"\".join(fasta.split('\\n')[1:]) # Very weird way of getting fasta sequence"
   ]
  },
  {
   "cell_type": "code",
   "execution_count": 48,
   "metadata": {},
   "outputs": [
    {
     "data": {
      "text/plain": [
       "'MKNKFKTQEELVNHLKTVGFVFANSEIYNGLANAWDYGPLGVLLKNNLKNLWWKEFVTKQKDVVGLDSAIILNPLVWKASGHLDNFSDPLIDCKNCKARYRADKLIESFDENIHIAENSSNEEFAKVLNDYEISCPTCKQFNWTEIRHFNLMFKTYQGVIEDAKNVVYLRPETAQGIFVNFKNVQRSMRLHLPFGIAQIGKSFRNEITPGNFIFRTREFEQMEIEFFLKEESAYDIFDKYLNQIENWLVSACGLSLNNLRKHEHPKEELSHYSKKTIDFEYNFLHGFSELYGIAYRTNYDLSVHMNLSKKDLTYFDEQTKEKYVPHVIEPSVGVERLLYAILTEATFIEKLENDDERILMDLKYDLAPYKIAVMPLVNKLKDKAEEIYGKILDLNISATFDNSGSIGKRYRRQDAIGTIYCLTIDFDSLDDQQDPSFTIRERNSMAQKRIKLSELPLYLNQKAHEDFQRQCQK'"
      ]
     },
     "execution_count": 48,
     "metadata": {},
     "output_type": "execute_result"
    }
   ],
   "source": [
    "prot_seq"
   ]
  },
  {
   "cell_type": "markdown",
   "metadata": {},
   "source": [
    "Functionalize versions:"
   ]
  },
  {
   "cell_type": "code",
   "execution_count": 49,
   "metadata": {
    "collapsed": true
   },
   "outputs": [],
   "source": [
    "def connect2uniprot(accid):\n",
    "    uri = 'http://www.uniprot.org/uniprot/{}.fasta'.format(accid)\n",
    "    response = urllib.request.urlopen(uri)\n",
    "    fasta = response.read().decode(\"utf-8\", \"ignore\")\n",
    "    prot_seq = \"\".join(fasta.split('\\n')[1:])\n",
    "    return prot_seq"
   ]
  },
  {
   "cell_type": "code",
   "execution_count": 60,
   "metadata": {
    "collapsed": true
   },
   "outputs": [],
   "source": [
    "def main(data_path):\n",
    "    # Define motif to look for in each protein sequence.\n",
    "    # N-glycosylation motif\n",
    "    # N{any but P}[S or T]{any but P}\n",
    "    motif = re.compile('(?=N[^P][ST][^P])')\n",
    "\n",
    "    with open(data_path, 'r') as f:\n",
    "        accids = f.readlines()\n",
    "        accids = [i.strip('\\n') for i in accids]\n",
    "\n",
    "    results = {}\n",
    "    for i in accids:\n",
    "        index = []\n",
    "        name = i\n",
    "        seq = connect2uniprot(name)\n",
    "        for j in range(len(seq)):\n",
    "            if motif.match(seq[j:j+4]):\n",
    "                index.append(str(j+1))\n",
    "\n",
    "        if len(index) != 0:\n",
    "            print(name)\n",
    "            print(' '.join(index))"
   ]
  },
  {
   "cell_type": "code",
   "execution_count": 61,
   "metadata": {},
   "outputs": [
    {
     "name": "stdout",
     "output_type": "stream",
     "text": [
      "B5ZC00\n",
      "85 118 142 306 395\n",
      "P07204_TRBM_HUMAN\n",
      "47 115 116 382 409\n",
      "P20840_SAG1_YEAST\n",
      "79 109 135 248 306 348 364 402 485 501 614\n"
     ]
    }
   ],
   "source": [
    "main('./data/test_mprt.txt')"
   ]
  },
  {
   "cell_type": "code",
   "execution_count": 10,
   "metadata": {
    "collapsed": true
   },
   "outputs": [],
   "source": [
    "aa_dist = {\n",
    "        'F':2,  'L':6,  'I':3,  'V':4,  'M':1,  'S':6,  'P':4,  'T':4,  'A':4,  'Y':2,\n",
    "        'H':2,  'N':2,  'D':2,  'Q':2,  'K':2,  'E':2,  'C':2,  'R':6,  'G':4,  'W':1}"
   ]
  },
  {
   "cell_type": "code",
   "execution_count": 11,
   "metadata": {
    "collapsed": true
   },
   "outputs": [],
   "source": [
    "data_path = './data/test_mrna.txt'"
   ]
  },
  {
   "cell_type": "code",
   "execution_count": 12,
   "metadata": {
    "collapsed": true
   },
   "outputs": [],
   "source": [
    "with open(data_path, 'r') as input_data:\n",
    "    aas = list(input_data.read().strip())"
   ]
  },
  {
   "cell_type": "code",
   "execution_count": 13,
   "metadata": {},
   "outputs": [
    {
     "data": {
      "text/plain": [
       "['M', 'A']"
      ]
     },
     "execution_count": 13,
     "metadata": {},
     "output_type": "execute_result"
    }
   ],
   "source": [
    "aas"
   ]
  },
  {
   "cell_type": "code",
   "execution_count": 18,
   "metadata": {},
   "outputs": [
    {
     "name": "stdout",
     "output_type": "stream",
     "text": [
      "12\n"
     ]
    }
   ],
   "source": [
    "count = 3\n",
    "for aa in aas:\n",
    "    count = (count * (aa_dist[aa]) ) % 1000000\n",
    "\n",
    "print(count)"
   ]
  },
  {
   "cell_type": "code",
   "execution_count": 4,
   "metadata": {
    "collapsed": true
   },
   "outputs": [],
   "source": [
    "rna_seq = \"\".join(['U' if x=='T' else x for x in dna_seq])"
   ]
  },
  {
   "cell_type": "code",
   "execution_count": 6,
   "metadata": {
    "collapsed": true
   },
   "outputs": [],
   "source": [
    "import re"
   ]
  },
  {
   "cell_type": "code",
   "execution_count": 33,
   "metadata": {},
   "outputs": [],
   "source": [
    "starts= [m.start() for m in re.finditer('(?=AUG)', rna_seq)]\n",
    "ends =  [m.start() for m in re.finditer('(?=UAA)', rna_seq)] + \\\n",
    "        [m.start() for m in re.finditer('(?=UAG)', rna_seq)] + \\\n",
    "        [m.start() for m in re.finditer('(?=UGA)', rna_seq)]\n",
    "        \n",
    "ends = sorted(ends)"
   ]
  },
  {
   "cell_type": "code",
   "execution_count": 34,
   "metadata": {},
   "outputs": [
    {
     "data": {
      "text/plain": [
       "[4, 24, 30, 75]"
      ]
     },
     "execution_count": 34,
     "metadata": {},
     "output_type": "execute_result"
    }
   ],
   "source": [
    "starts"
   ]
  },
  {
   "cell_type": "code",
   "execution_count": 35,
   "metadata": {},
   "outputs": [
    {
     "data": {
      "text/plain": [
       "[7, 11, 31, 49, 66, 72, 76, 85]"
      ]
     },
     "execution_count": 35,
     "metadata": {},
     "output_type": "execute_result"
    }
   ],
   "source": [
    "ends"
   ]
  },
  {
   "cell_type": "code",
   "execution_count": 17,
   "metadata": {},
   "outputs": [
    {
     "data": {
      "text/plain": [
       "'AUGUAGCUAACUCAGGUUACAUGGGGAUGACCCCGCGACUUGGAUUAGAGUCUCUUUUGGAAUAAGCCUGAAUGAUCCGAGUAGCAUCUCAG'"
      ]
     },
     "execution_count": 17,
     "metadata": {},
     "output_type": "execute_result"
    }
   ],
   "source": [
    "rna_seq[4:]"
   ]
  },
  {
   "cell_type": "code",
   "execution_count": 22,
   "metadata": {},
   "outputs": [
    {
     "name": "stdout",
     "output_type": "stream",
     "text": [
      "[4, 24]\n",
      "[24, 30]\n",
      "[30, 75]\n",
      "[75]\n"
     ]
    }
   ],
   "source": [
    "for i in range(1,len(starts)+1):\n",
    "    print(starts[i-1:i+1])        "
   ]
  },
  {
   "cell_type": "code",
   "execution_count": 26,
   "metadata": {
    "collapsed": true
   },
   "outputs": [],
   "source": [
    "def coupling(starts, ends):\n",
    "    couples = []\n",
    "    for i in starts:\n",
    "        for j in ends:\n",
    "            if i < j:\n",
    "                couples.append([i,j])\n",
    "                break\n",
    "    return couples    "
   ]
  },
  {
   "cell_type": "code",
   "execution_count": 31,
   "metadata": {},
   "outputs": [],
   "source": [
    "x = coupling(starts, ends)"
   ]
  },
  {
   "cell_type": "code",
   "execution_count": 32,
   "metadata": {},
   "outputs": [
    {
     "name": "stdout",
     "output_type": "stream",
     "text": [
      "AUG\n",
      "AUGGGGA\n",
      "A\n",
      "A\n"
     ]
    }
   ],
   "source": [
    "for i in coupling:\n",
    "    print(rna_seq[i[0]:i[1]])"
   ]
  },
  {
   "cell_type": "code",
   "execution_count": 2,
   "metadata": {
    "collapsed": true
   },
   "outputs": [],
   "source": [
    "codons_index = {\"UUU\":\"F\",\"UUC\":\"F\",\"UUA\":\"L\",\"UUG\":\"L\",\"UCU\":\"S\",\\\n",
    "                \"UCC\":\"S\",\"UCA\":\"S\",\"UCG\":\"S\",\"UAC\":\"Y\",\"UAU\":\"Y\",\"UAA\":\"STOP\",\\\n",
    "                \"UAG\":\"STOP\",\"UGU\":\"C\",\"UGC\":\"C\",\"UGA\":\"STOP\",\"UGG\":\"W\",\\\n",
    "                \"CUU\":\"L\",\"CUC\":\"L\",\"CUA\":\"L\",\"CUG\":\"L\",\"CCU\":\"P\",\"CCC\":\"P\",\\\n",
    "                \"CCA\":\"P\",\"CCG\":\"P\",\"CAU\":\"H\",\"CAC\":\"H\",\"CAA\":\"Q\",\"CAG\":\"Q\",\\\n",
    "                \"CGU\":\"R\",\"CGC\":\"R\",\"CGA\":\"R\",\"CGG\":\"R\",\"AUU\":\"I\",\"AUC\":\"I\",\\\n",
    "                \"AUA\":\"I\",\"AUG\":\"M\",\"ACU\":\"T\",\"ACC\":\"T\",\"ACA\":\"T\",\"ACG\":\"T\",\\\n",
    "                \"AAU\":\"N\",\"AAC\":\"N\",\"AAA\":\"K\",\"AAG\":\"K\",\"AGU\":\"S\",\"AGC\":\"S\",\\\n",
    "                \"AGA\":\"R\",\"AGG\":\"R\",\"GUU\":\"V\",\"GUC\":\"V\",\"GUA\":\"V\",\"GUG\":\"V\",\\\n",
    "                \"GCU\":\"A\",\"GCA\":\"A\",\"GCC\":\"A\",\"GCG\":\"A\",\"GAC\":\"D\",\"GAU\":\"D\",\"GAA\":\"E\",\"GAG\":\"E\",\\\n",
    "                \"GGU\":\"G\",\"GGC\":\"G\",\"GGA\":\"G\",\"GGG\":\"G\"}"
   ]
  },
  {
   "cell_type": "code",
   "execution_count": 1,
   "metadata": {
    "collapsed": true
   },
   "outputs": [],
   "source": [
    "stop_codons = ['UAA', 'UAG', 'UGA']"
   ]
  },
  {
   "cell_type": "code",
   "execution_count": 6,
   "metadata": {
    "collapsed": true
   },
   "outputs": [],
   "source": [
    "from Bio import SeqIO\n",
    "data_path = './data/test_orf.txt'\n",
    "lst_seqs = []\n",
    "for sequence in SeqIO.parse(data_path, \"fasta\"):\n",
    "        lst_seqs.append(str(sequence.seq))\n",
    "dna_seq = lst_seqs[0]  "
   ]
  },
  {
   "cell_type": "code",
   "execution_count": 9,
   "metadata": {
    "collapsed": true
   },
   "outputs": [],
   "source": [
    "rna_seq = \"\".join(['U' if x=='T' else x for x in dna_seq])\n",
    "rev_rna_seq = rna_seq[::-1]"
   ]
  },
  {
   "cell_type": "code",
   "execution_count": 23,
   "metadata": {
    "collapsed": true
   },
   "outputs": [],
   "source": [
    "import re"
   ]
  },
  {
   "cell_type": "code",
   "execution_count": 30,
   "metadata": {},
   "outputs": [],
   "source": [
    "starts= [m.start() for m in re.finditer('(?=AUG)', rna_seq)]\n",
    "ends =  [m.start() for m in re.finditer('(?=UAA)', rna_seq)] + \\\n",
    "        [m.start() for m in re.finditer('(?=UAG)', rna_seq)] + \\\n",
    "        [m.start() for m in re.finditer('(?=UGA)', rna_seq)]\n",
    "ends = sorted(ends)"
   ]
  },
  {
   "cell_type": "code",
   "execution_count": 31,
   "metadata": {
    "collapsed": true
   },
   "outputs": [],
   "source": [
    "starts_rev= [m.start() for m in re.finditer('(?=AUG)', rev_rna_seq)]\n",
    "ends_rev =  [m.start() for m in re.finditer('(?=UAA)', rev_rna_seq)] + \\\n",
    "            [m.start() for m in re.finditer('(?=UAG)', rev_rna_seq)] + \\\n",
    "            [m.start() for m in re.finditer('(?=UGA)', rev_rna_seq)]\n",
    "ends_rev = sorted(ends_rev)"
   ]
  },
  {
   "cell_type": "code",
   "execution_count": 32,
   "metadata": {},
   "outputs": [
    {
     "data": {
      "text/plain": [
       "[4, 24, 30, 75]"
      ]
     },
     "execution_count": 32,
     "metadata": {},
     "output_type": "execute_result"
    }
   ],
   "source": [
    "starts"
   ]
  },
  {
   "cell_type": "code",
   "execution_count": 33,
   "metadata": {},
   "outputs": [
    {
     "data": {
      "text/plain": [
       "[9, 87]"
      ]
     },
     "execution_count": 33,
     "metadata": {},
     "output_type": "execute_result"
    }
   ],
   "source": [
    "starts_rev"
   ]
  },
  {
   "cell_type": "code",
   "execution_count": 34,
   "metadata": {},
   "outputs": [
    {
     "data": {
      "text/plain": [
       "[7, 11, 31, 49, 66, 72, 76, 85]"
      ]
     },
     "execution_count": 34,
     "metadata": {},
     "output_type": "execute_result"
    }
   ],
   "source": [
    "ends"
   ]
  },
  {
   "cell_type": "code",
   "execution_count": 35,
   "metadata": {},
   "outputs": [
    {
     "data": {
      "text/plain": [
       "[10, 16, 19, 29, 41, 47, 64]"
      ]
     },
     "execution_count": 35,
     "metadata": {},
     "output_type": "execute_result"
    }
   ],
   "source": [
    "ends_rev"
   ]
  },
  {
   "cell_type": "code",
   "execution_count": null,
   "metadata": {
    "collapsed": true
   },
   "outputs": [],
   "source": []
  }
 ],
 "metadata": {
  "kernelspec": {
   "display_name": "Python 3",
   "language": "python",
   "name": "python3"
  },
  "language_info": {
   "codemirror_mode": {
    "name": "ipython",
    "version": 3
   },
   "file_extension": ".py",
   "mimetype": "text/x-python",
   "name": "python",
   "nbconvert_exporter": "python",
   "pygments_lexer": "ipython3",
   "version": "3.6.1"
  }
 },
 "nbformat": 4,
 "nbformat_minor": 2
}
